{
 "cells": [
  {
   "cell_type": "markdown",
   "metadata": {},
   "source": [
    "Chapter 1. The Python Data Model"
   ]
  },
  {
   "cell_type": "code",
   "execution_count": 70,
   "metadata": {},
   "outputs": [],
   "source": [
    "class Card:\n",
    "    rank: str\n",
    "    suit: str\n",
    "    \n",
    "    def __init__(self, rank, suit) -> None:\n",
    "        self.suit = suit\n",
    "        self.rank = rank\n",
    "\n",
    "    def __str__(self) -> str:\n",
    "        return f\"{self.rank} of {self.suit.capitalize()}\"\n",
    "    \n",
    "    def __repr__(self) -> str:\n",
    "        return f\"Card({self.rank}, {self.suit})\"\n",
    "    \n",
    "    def __eq__(self, other: object) -> bool:\n",
    "        return self.rank.strip() == other.rank.strip() and self.suit.strip().capitalize() == other.suit.strip().capitalize()\n",
    "\n",
    "class FrenchDeck:\n",
    "    ranks = [str(n) for n in range(2, 11)] + list('JQKA')\n",
    "    suits = 'spades diamonds clubs hearts'.split()\n",
    "\n",
    "    def __init__(self):\n",
    "        self._cards = [Card(rank=rank, suit=suit) for suit in self.suits\n",
    "                                        for rank in self.ranks]\n",
    "\n",
    "    def __len__(self):\n",
    "        return len(self._cards)\n",
    "\n",
    "    def __getitem__(self, position):\n",
    "        return self._cards[position]\n",
    "    \n",
    "    def __setitem__(self, position, card):\n",
    "        self._cards[position] = card\n",
    "    "
   ]
  },
  {
   "cell_type": "markdown",
   "metadata": {},
   "source": [
    "Create the deck"
   ]
  },
  {
   "cell_type": "code",
   "execution_count": 71,
   "metadata": {},
   "outputs": [],
   "source": [
    "deck = FrenchDeck()"
   ]
  },
  {
   "cell_type": "markdown",
   "metadata": {},
   "source": [
    "Because of the dunder methods the deck also supports __len()__, __slicing__ and __sorting__ like other native python collections"
   ]
  },
  {
   "cell_type": "code",
   "execution_count": 72,
   "metadata": {},
   "outputs": [
    {
     "data": {
      "text/plain": [
       "52"
      ]
     },
     "execution_count": 72,
     "metadata": {},
     "output_type": "execute_result"
    }
   ],
   "source": [
    "len(deck)"
   ]
  },
  {
   "cell_type": "code",
   "execution_count": 73,
   "metadata": {},
   "outputs": [
    {
     "data": {
      "text/plain": [
       "Card(A, hearts)"
      ]
     },
     "execution_count": 73,
     "metadata": {},
     "output_type": "execute_result"
    }
   ],
   "source": [
    "deck[-1]"
   ]
  },
  {
   "cell_type": "code",
   "execution_count": 74,
   "metadata": {},
   "outputs": [
    {
     "data": {
      "text/plain": [
       "Card(A, hearts)"
      ]
     },
     "execution_count": 74,
     "metadata": {},
     "output_type": "execute_result"
    }
   ],
   "source": [
    "from random import choice\n",
    "choice(deck)"
   ]
  },
  {
   "cell_type": "code",
   "execution_count": 75,
   "metadata": {},
   "outputs": [
    {
     "data": {
      "text/plain": [
       "Card(2, clubs)"
      ]
     },
     "execution_count": 75,
     "metadata": {},
     "output_type": "execute_result"
    }
   ],
   "source": [
    "choice(deck)"
   ]
  },
  {
   "cell_type": "code",
   "execution_count": 76,
   "metadata": {},
   "outputs": [
    {
     "data": {
      "text/plain": [
       "[Card(2, spades),\n",
       " Card(3, spades),\n",
       " Card(4, spades),\n",
       " Card(5, spades),\n",
       " Card(6, spades),\n",
       " Card(7, spades),\n",
       " Card(8, spades),\n",
       " Card(9, spades),\n",
       " Card(10, spades),\n",
       " Card(J, spades),\n",
       " Card(Q, spades),\n",
       " Card(K, spades),\n",
       " Card(A, spades)]"
      ]
     },
     "execution_count": 76,
     "metadata": {},
     "output_type": "execute_result"
    }
   ],
   "source": [
    "deck[:13]"
   ]
  },
  {
   "cell_type": "code",
   "execution_count": 77,
   "metadata": {},
   "outputs": [
    {
     "data": {
      "text/plain": [
       "[Card(A, spades), Card(A, diamonds), Card(A, clubs), Card(A, hearts)]"
      ]
     },
     "execution_count": 77,
     "metadata": {},
     "output_type": "execute_result"
    }
   ],
   "source": [
    "deck[12::13]"
   ]
  },
  {
   "cell_type": "code",
   "execution_count": 78,
   "metadata": {},
   "outputs": [
    {
     "name": "stdout",
     "output_type": "stream",
     "text": [
      "2 of Spades\n",
      "3 of Spades\n",
      "4 of Spades\n",
      "5 of Spades\n",
      "6 of Spades\n",
      "7 of Spades\n",
      "8 of Spades\n",
      "9 of Spades\n",
      "10 of Spades\n",
      "J of Spades\n",
      "Q of Spades\n",
      "K of Spades\n",
      "A of Spades\n",
      "2 of Diamonds\n",
      "3 of Diamonds\n",
      "4 of Diamonds\n",
      "5 of Diamonds\n",
      "6 of Diamonds\n",
      "7 of Diamonds\n",
      "8 of Diamonds\n",
      "9 of Diamonds\n",
      "10 of Diamonds\n",
      "J of Diamonds\n",
      "Q of Diamonds\n",
      "K of Diamonds\n",
      "A of Diamonds\n",
      "2 of Clubs\n",
      "3 of Clubs\n",
      "4 of Clubs\n",
      "5 of Clubs\n",
      "6 of Clubs\n",
      "7 of Clubs\n",
      "8 of Clubs\n",
      "9 of Clubs\n",
      "10 of Clubs\n",
      "J of Clubs\n",
      "Q of Clubs\n",
      "K of Clubs\n",
      "A of Clubs\n",
      "2 of Hearts\n",
      "3 of Hearts\n",
      "4 of Hearts\n",
      "5 of Hearts\n",
      "6 of Hearts\n",
      "7 of Hearts\n",
      "8 of Hearts\n",
      "9 of Hearts\n",
      "10 of Hearts\n",
      "J of Hearts\n",
      "Q of Hearts\n",
      "K of Hearts\n",
      "A of Hearts\n"
     ]
    }
   ],
   "source": [
    "for card in deck:\n",
    "    print(card)"
   ]
  },
  {
   "cell_type": "code",
   "execution_count": 79,
   "metadata": {},
   "outputs": [
    {
     "name": "stdout",
     "output_type": "stream",
     "text": [
      "A of Hearts\n",
      "K of Hearts\n",
      "Q of Hearts\n",
      "J of Hearts\n",
      "10 of Hearts\n",
      "9 of Hearts\n",
      "8 of Hearts\n",
      "7 of Hearts\n",
      "6 of Hearts\n",
      "5 of Hearts\n",
      "4 of Hearts\n",
      "3 of Hearts\n",
      "2 of Hearts\n",
      "A of Clubs\n",
      "K of Clubs\n",
      "Q of Clubs\n",
      "J of Clubs\n",
      "10 of Clubs\n",
      "9 of Clubs\n",
      "8 of Clubs\n",
      "7 of Clubs\n",
      "6 of Clubs\n",
      "5 of Clubs\n",
      "4 of Clubs\n",
      "3 of Clubs\n",
      "2 of Clubs\n",
      "A of Diamonds\n",
      "K of Diamonds\n",
      "Q of Diamonds\n",
      "J of Diamonds\n",
      "10 of Diamonds\n",
      "9 of Diamonds\n",
      "8 of Diamonds\n",
      "7 of Diamonds\n",
      "6 of Diamonds\n",
      "5 of Diamonds\n",
      "4 of Diamonds\n",
      "3 of Diamonds\n",
      "2 of Diamonds\n",
      "A of Spades\n",
      "K of Spades\n",
      "Q of Spades\n",
      "J of Spades\n",
      "10 of Spades\n",
      "9 of Spades\n",
      "8 of Spades\n",
      "7 of Spades\n",
      "6 of Spades\n",
      "5 of Spades\n",
      "4 of Spades\n",
      "3 of Spades\n",
      "2 of Spades\n"
     ]
    }
   ],
   "source": [
    "for card in reversed(deck):\n",
    "    print(card)"
   ]
  },
  {
   "cell_type": "code",
   "execution_count": 86,
   "metadata": {},
   "outputs": [
    {
     "data": {
      "text/plain": [
       "False"
      ]
     },
     "execution_count": 86,
     "metadata": {},
     "output_type": "execute_result"
    }
   ],
   "source": [
    "Card(rank=\"7\", suit=\"Spades\") in deck"
   ]
  },
  {
   "cell_type": "markdown",
   "metadata": {},
   "source": [
    "We can create a sorting function for our deck"
   ]
  },
  {
   "cell_type": "code",
   "execution_count": 81,
   "metadata": {},
   "outputs": [
    {
     "data": {
      "text/plain": [
       "51"
      ]
     },
     "execution_count": 81,
     "metadata": {},
     "output_type": "execute_result"
    }
   ],
   "source": [
    "suit_values = dict(spades=3, hearts=2, diamonds=1, clubs=0)\n",
    "\n",
    "def spades_high(card: Card):\n",
    "    rank_value = FrenchDeck.ranks.index(card.rank)\n",
    "    suit_values_len = len(suit_values)\n",
    "    suit_value = suit_values[card.suit]\n",
    "    return rank_value * suit_values_len + suit_value\n",
    "\n",
    "spades_high(Card(\"A\", \"spades\"))"
   ]
  },
  {
   "cell_type": "markdown",
   "metadata": {},
   "source": [
    "And use it to sort our deck using the sorted() method"
   ]
  },
  {
   "cell_type": "code",
   "execution_count": 82,
   "metadata": {},
   "outputs": [
    {
     "name": "stdout",
     "output_type": "stream",
     "text": [
      "1 --> 2 of Clubs\n",
      "2 --> 2 of Diamonds\n",
      "3 --> 2 of Hearts\n",
      "4 --> 2 of Spades\n",
      "5 --> 3 of Clubs\n",
      "6 --> 3 of Diamonds\n",
      "7 --> 3 of Hearts\n",
      "8 --> 3 of Spades\n",
      "9 --> 4 of Clubs\n",
      "10 --> 4 of Diamonds\n",
      "11 --> 4 of Hearts\n",
      "12 --> 4 of Spades\n",
      "13 --> 5 of Clubs\n",
      "14 --> 5 of Diamonds\n",
      "15 --> 5 of Hearts\n",
      "16 --> 5 of Spades\n",
      "17 --> 6 of Clubs\n",
      "18 --> 6 of Diamonds\n",
      "19 --> 6 of Hearts\n",
      "20 --> 6 of Spades\n",
      "21 --> 7 of Clubs\n",
      "22 --> 7 of Diamonds\n",
      "23 --> 7 of Hearts\n",
      "24 --> 7 of Spades\n",
      "25 --> 8 of Clubs\n",
      "26 --> 8 of Diamonds\n",
      "27 --> 8 of Hearts\n",
      "28 --> 8 of Spades\n",
      "29 --> 9 of Clubs\n",
      "30 --> 9 of Diamonds\n",
      "31 --> 9 of Hearts\n",
      "32 --> 9 of Spades\n",
      "33 --> 10 of Clubs\n",
      "34 --> 10 of Diamonds\n",
      "35 --> 10 of Hearts\n",
      "36 --> 10 of Spades\n",
      "37 --> J of Clubs\n",
      "38 --> J of Diamonds\n",
      "39 --> J of Hearts\n",
      "40 --> J of Spades\n",
      "41 --> Q of Clubs\n",
      "42 --> Q of Diamonds\n",
      "43 --> Q of Hearts\n",
      "44 --> Q of Spades\n",
      "45 --> K of Clubs\n",
      "46 --> K of Diamonds\n",
      "47 --> K of Hearts\n",
      "48 --> K of Spades\n",
      "49 --> A of Clubs\n",
      "50 --> A of Diamonds\n",
      "51 --> A of Hearts\n",
      "52 --> A of Spades\n"
     ]
    }
   ],
   "source": [
    "for i, card in enumerate(sorted(deck, key=spades_high)):\n",
    "    print(i+1,'-->', card)"
   ]
  },
  {
   "cell_type": "markdown",
   "metadata": {},
   "source": [
    "The __\\_\\_setitem\\_\\___ dunder method allows us to easily shuffle our deck"
   ]
  },
  {
   "cell_type": "code",
   "execution_count": 83,
   "metadata": {},
   "outputs": [
    {
     "name": "stdout",
     "output_type": "stream",
     "text": [
      "5 of Diamonds\n",
      "2 of Spades\n",
      "A of Clubs\n",
      "7 of Hearts\n",
      "Q of Clubs\n",
      "4 of Hearts\n",
      "K of Clubs\n",
      "6 of Hearts\n",
      "5 of Clubs\n",
      "2 of Hearts\n",
      "5 of Hearts\n",
      "10 of Spades\n",
      "Q of Diamonds\n",
      "3 of Spades\n",
      "8 of Clubs\n",
      "A of Hearts\n",
      "9 of Diamonds\n",
      "Q of Hearts\n",
      "4 of Diamonds\n",
      "4 of Spades\n",
      "4 of Clubs\n",
      "10 of Hearts\n",
      "J of Diamonds\n",
      "3 of Diamonds\n",
      "A of Diamonds\n",
      "8 of Diamonds\n",
      "J of Hearts\n",
      "7 of Clubs\n",
      "10 of Clubs\n",
      "6 of Diamonds\n",
      "Q of Spades\n",
      "K of Hearts\n",
      "J of Clubs\n",
      "A of Spades\n",
      "9 of Spades\n",
      "2 of Diamonds\n",
      "6 of Clubs\n",
      "3 of Hearts\n",
      "6 of Spades\n",
      "8 of Hearts\n",
      "3 of Clubs\n",
      "9 of Hearts\n",
      "8 of Spades\n",
      "K of Spades\n",
      "2 of Clubs\n",
      "9 of Clubs\n",
      "10 of Diamonds\n",
      "7 of Diamonds\n",
      "J of Spades\n",
      "K of Diamonds\n",
      "5 of Spades\n",
      "7 of Spades\n"
     ]
    }
   ],
   "source": [
    "from random import shuffle\n",
    "\n",
    "shuffle(deck)\n",
    "for card in deck:\n",
    "    print(card)\n"
   ]
  }
 ],
 "metadata": {
  "kernelspec": {
   "display_name": ".venv",
   "language": "python",
   "name": "python3"
  },
  "language_info": {
   "codemirror_mode": {
    "name": "ipython",
    "version": 3
   },
   "file_extension": ".py",
   "mimetype": "text/x-python",
   "name": "python",
   "nbconvert_exporter": "python",
   "pygments_lexer": "ipython3",
   "version": "3.11.5"
  }
 },
 "nbformat": 4,
 "nbformat_minor": 2
}
